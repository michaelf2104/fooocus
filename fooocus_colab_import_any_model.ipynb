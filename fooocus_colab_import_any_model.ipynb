{
  "cells": [
    {
      "cell_type": "markdown",
      "metadata": {
        "id": "view-in-github",
        "colab_type": "text"
      },
      "source": [
        "<a href=\"https://colab.research.google.com/github/michaelf2104/fooocus/blob/main/fooocus_colab_import_any_model.ipynb\" target=\"_parent\"><img src=\"https://colab.research.google.com/assets/colab-badge.svg\" alt=\"Open In Colab\"/></a>"
      ]
    },
    {
      "cell_type": "code",
      "execution_count": null,
      "metadata": {
        "id": "VjYy0F2gZIPR"
      },
      "outputs": [],
      "source": [
        "# Run first - we need to install the required dependencies and then clone the latest version of Fooocus\n",
        "!pip install pygit2==1.12.2\n",
        "%cd /content\n",
        "!git clone https://github.com/lllyasviel/Fooocus.git\n",
        "%cd /content/Fooocus"
      ]
    },
    {
      "cell_type": "code",
      "source": [
        "# Install any additional Fooocus dependencies e.g. upscaler\n",
        "!wget -O /content/Fooocus/models/upscale_models/fooocus_upscaler_s409985e5.bin https://huggingface.co/lllyasviel/misc/resolve/main/fooocus_upscaler_s409985e5.bin?download=true"
      ],
      "metadata": {
        "id": "jVA5oCVfDVgQ"
      },
      "execution_count": null,
      "outputs": []
    },
    {
      "cell_type": "code",
      "source": [
        "# Download the model you want to run and save it to the checkpoint folder\n",
        "!wget -O /content/Fooocus/models/checkpoints/realism_engine_sdxl.safetensors https://civitai.com/api/download/models/258380?type=Model&format=SafeTensor&size=pruned&fp=fp16\n"
      ],
      "metadata": {
        "id": "gPXtSHIcUrT1"
      },
      "execution_count": null,
      "outputs": []
    },
    {
      "cell_type": "code",
      "source": [
        "# additional checkpoint\n",
        "!wget -O /content/Fooocus/models/checkpoints/epicrealism_naturalSinRC1VAE https://civitai.com/api/download/models/143906?type=Model&format=SafeTensor&size=pruned&fp=fp16"
      ],
      "metadata": {
        "id": "YFVQPi9I1B-c"
      },
      "execution_count": null,
      "outputs": []
    },
    {
      "cell_type": "code",
      "source": [
        "# loras\n",
        "!wget -O /content/foocus/models/loras/shirt_tug.safetensors https://civitai.com/api/download/models/9048?type=Model&format=SafeTensor&size=full&fp=fp16\n",
        "!wget -O /content/foocus/models/loras/upside_down.safetensors https://civitai.com/api/download/models/188898?type=Model&format=SafeTensor\n",
        "!wget -O /content/foocus/models/loras/laying_on_back.safetensors https://civitai.com/api/download/models/651293?type=Model&format=SafeTensor\n"
      ],
      "metadata": {
        "id": "VKA3Nxgs1bTW"
      },
      "execution_count": null,
      "outputs": []
    },
    {
      "cell_type": "code",
      "source": [
        "# Run Fooocus!\n",
        "!python entry_with_update.py --share"
      ],
      "metadata": {
        "id": "RQyPnqbFUsgS"
      },
      "execution_count": null,
      "outputs": []
    }
  ],
  "metadata": {
    "accelerator": "GPU",
    "colab": {
      "gpuType": "A100",
      "provenance": [],
      "include_colab_link": true
    },
    "kernelspec": {
      "display_name": "Python 3",
      "name": "python3"
    },
    "language_info": {
      "name": "python"
    }
  },
  "nbformat": 4,
  "nbformat_minor": 0
}